{
  "nbformat": 4,
  "nbformat_minor": 0,
  "metadata": {
    "kernelspec": {
      "display_name": "Python 3",
      "language": "python",
      "name": "python3"
    },
    "language_info": {
      "codemirror_mode": {
        "name": "ipython",
        "version": 3
      },
      "file_extension": ".py",
      "mimetype": "text/x-python",
      "name": "python",
      "nbconvert_exporter": "python",
      "pygments_lexer": "ipython3",
      "version": "3.6.9"
    },
    "varInspector": {
      "cols": {
        "lenName": 16,
        "lenType": 16,
        "lenVar": 40
      },
      "kernels_config": {
        "python": {
          "delete_cmd_postfix": "",
          "delete_cmd_prefix": "del ",
          "library": "var_list.py",
          "varRefreshCmd": "print(var_dic_list())"
        },
        "r": {
          "delete_cmd_postfix": ") ",
          "delete_cmd_prefix": "rm(",
          "library": "var_list.r",
          "varRefreshCmd": "cat(var_dic_list()) "
        }
      },
      "types_to_exclude": [
        "module",
        "function",
        "builtin_function_or_method",
        "instance",
        "_Feature"
      ],
      "window_display": false
    },
    "colab": {
      "name": "CM Sentiment Analysis.ipynb",
      "provenance": []
    },
    "accelerator": "GPU"
  },
  "cells": [
    {
      "cell_type": "code",
      "metadata": {
        "id": "H8VY-PEhhLnT"
      },
      "source": [
        "!pip install emoji\r\n",
        "!pip install keras_self_attention\r\n",
        "!pip install hydra-core\r\n",
        "!pip install sentencepiece\r\n",
        "!pip install fairseq\r\n",
        "!pip install matplotlib\r\n",
        "!pip install seaborn"
      ],
      "execution_count": null,
      "outputs": []
    },
    {
      "cell_type": "code",
      "metadata": {
        "ExecuteTime": {
          "end_time": "2020-07-31T19:09:53.483219Z",
          "start_time": "2020-07-31T19:09:52.895095Z"
        },
        "id": "-IQav5bcf-bs"
      },
      "source": [
        "from sklearn.model_selection import train_test_split\n",
        "import itertools\n",
        "import emoji\n",
        "import re\n",
        "import tensorflow\n",
        "from tensorflow.keras.optimizers import Adam, SGD\n",
        "from tensorflow.keras.preprocessing.text import Tokenizer\n",
        "from tensorflow.keras.preprocessing.sequence import pad_sequences\n",
        "from sklearn import preprocessing\n",
        "from tensorflow.keras.utils import to_categorical\n",
        "\n",
        "from tensorflow.keras.models import Sequential\n",
        "from tensorflow.keras.layers import Embedding, Conv1D, MaxPooling1D, Input, GlobalAveragePooling1D, GlobalAveragePooling2D\n",
        "from keras_self_attention import SeqSelfAttention\n",
        "from tensorflow.keras.layers import Flatten, Dropout, Dense, Bidirectional, Average, Concatenate, LSTM\n",
        "\n",
        "import numpy as np\n",
        "import pandas as pd\n",
        "from sklearn.metrics import classification_report\n",
        "from tqdm import tqdm_notebook as tqdm"
      ],
      "execution_count": null,
      "outputs": []
    },
    {
      "cell_type": "code",
      "metadata": {
        "ExecuteTime": {
          "end_time": "2020-07-31T19:07:16.569270Z",
          "start_time": "2020-07-31T19:06:15.693Z"
        },
        "code_folding": [
          0
        ],
        "id": "vHYGTMtSf-bv"
      },
      "source": [
        "def parse_lines(lines):\n",
        "    u = [] # uids\n",
        "    t = [] # tokens\n",
        "    l = [] # token labels\n",
        "    s = [] # sentiment labels\n",
        "    max_length = 0\n",
        "\n",
        "    print(\"Parsing lines from file...\")\n",
        "    for i, line in tqdm(enumerate(lines), total=len(lines)):\n",
        "        line = line.strip().split('\\t')\n",
        "        if line[0]=='meta':\n",
        "            if i!=0:\n",
        "                u.append(buffer_id)\n",
        "                t.append(buffer_tokens)\n",
        "                l.append(buffer_labels)\n",
        "                s.append(buffer_sentiment)\n",
        "                if len(buffer_tokens) > max_length:\n",
        "                    max_length = len(buffer_tokens)\n",
        "            buffer_id = line[1]\n",
        "            try:\n",
        "                buffer_sentiment = line[2]\n",
        "            except:\n",
        "                buffer_sentiment = ''\n",
        "            buffer_tokens = []\n",
        "            buffer_labels = []\n",
        "        else:\n",
        "            buffer_tokens.append(line[0])\n",
        "            try:\n",
        "                buffer_labels.append(line[1])\n",
        "            except:\n",
        "                buffer_labels.append('')\n",
        "\n",
        "    u.append(buffer_id)\n",
        "    t.append(buffer_tokens)\n",
        "    l.append(buffer_labels)\n",
        "    s.append(buffer_sentiment)\n",
        "    if len(buffer_tokens) > max_length:\n",
        "        max_length = len(buffer_tokens)\n",
        "\n",
        "    num_samples = len(u)\n",
        "    \n",
        "    return u, t, l, s, max_length"
      ],
      "execution_count": null,
      "outputs": []
    },
    {
      "cell_type": "code",
      "metadata": {
        "id": "zZ_p8SSbgSqo"
      },
      "source": [
        "from google.colab import drive\n",
        "drive.mount('/content/drive')\n",
        "!cp /content/drive/MyDrive/datasets/* ."
      ],
      "execution_count": null,
      "outputs": []
    },
    {
      "cell_type": "code",
      "metadata": {
        "ExecuteTime": {
          "end_time": "2020-07-31T19:07:16.579244Z",
          "start_time": "2020-07-31T19:06:18.167Z"
        },
        "id": "9VNIMizwf-bv"
      },
      "source": [
        "train = open('/content/train_14k_split_conll.txt', encoding='utf8').readlines()\n",
        "valid = open('/content/dev_3k_split_conll.txt', encoding='utf8').readlines()\n",
        "test = open('/content/Hindi_test_unalbelled_conll_updated.txt', encoding='utf8').readlines()\n",
        "\n",
        "u_train, t_train, l_train, s_train, max_length = parse_lines(train)\n",
        "u_dev, t_dev, l_dev, s_dev, max_length_dev = parse_lines(valid)\n",
        "u_test, t_test, l_test, s_test, max_length_test = parse_lines(test)"
      ],
      "execution_count": null,
      "outputs": []
    },
    {
      "cell_type": "code",
      "metadata": {
        "id": "kklWXVqbzaPv"
      },
      "source": [
        "print(len(s_train),len(s_dev))"
      ],
      "execution_count": null,
      "outputs": []
    },
    {
      "cell_type": "markdown",
      "metadata": {
        "id": "-jrv-u8Rf-bw"
      },
      "source": [
        "### Cleaning"
      ]
    },
    {
      "cell_type": "code",
      "metadata": {
        "ExecuteTime": {
          "end_time": "2020-07-31T19:08:51.747175Z",
          "start_time": "2020-07-31T19:08:51.529298Z"
        },
        "code_folding": [
          2,
          63,
          192,
          223
        ],
        "id": "CQMzg7r7f-bw"
      },
      "source": [
        "def load_dict_smileys():\n",
        "    return {\n",
        "        \":‑)\":\"smiley\",\n",
        "        \":-]\":\"smiley\",\n",
        "        \":-3\":\"smiley\",\n",
        "        \":->\":\"smiley\",\n",
        "        \"8-)\":\"smiley\",\n",
        "        \":-}\":\"smiley\",\n",
        "        \":)\":\"smiley\",\n",
        "        \":]\":\"smiley\",\n",
        "        \":3\":\"smiley\",\n",
        "        \":>\":\"smiley\",\n",
        "        \"8)\":\"smiley\",\n",
        "        \":}\":\"smiley\",\n",
        "        \":o)\":\"smiley\",\n",
        "        \":c)\":\"smiley\",\n",
        "        \":^)\":\"smiley\",\n",
        "        \"=]\":\"smiley\",\n",
        "        \"=)\":\"smiley\",\n",
        "        \":-))\":\"smiley\",\n",
        "        \":‑D\":\"smiley\",\n",
        "        \"8‑D\":\"smiley\",\n",
        "        \"x‑D\":\"smiley\",\n",
        "        \"X‑D\":\"smiley\",\n",
        "        \":D\":\"smiley\",\n",
        "        \"8D\":\"smiley\",\n",
        "        \"xD\":\"smiley\",\n",
        "        \"XD\":\"smiley\",\n",
        "        \":‑(\":\"sad\",\n",
        "        \":‑c\":\"sad\",\n",
        "        \":‑<\":\"sad\",\n",
        "        \":‑[\":\"sad\",\n",
        "        \":(\":\"sad\",\n",
        "        \":c\":\"sad\",\n",
        "        \":<\":\"sad\",\n",
        "        \":[\":\"sad\",\n",
        "        \":-||\":\"sad\",\n",
        "        \">:[\":\"sad\",\n",
        "        \":{\":\"sad\",\n",
        "        \":@\":\"sad\",\n",
        "        \">:(\":\"sad\",\n",
        "        \":'‑(\":\"sad\",\n",
        "        \":'(\":\"sad\",\n",
        "        \":‑P\":\"playful\",\n",
        "        \"X‑P\":\"playful\",\n",
        "        \"x‑p\":\"playful\",\n",
        "        \":‑p\":\"playful\",\n",
        "        \":‑Þ\":\"playful\",\n",
        "        \":‑þ\":\"playful\",\n",
        "        \":‑b\":\"playful\",\n",
        "        \":P\":\"playful\",\n",
        "        \"XP\":\"playful\",\n",
        "        \"xp\":\"playful\",\n",
        "        \":p\":\"playful\",\n",
        "        \":Þ\":\"playful\",\n",
        "        \":þ\":\"playful\",\n",
        "        \":b\":\"playful\",\n",
        "        \"<3\":\"love\"\n",
        "        }\n",
        "\n",
        "# source: https://en.wikipedia.org/wiki/Contraction_%28grammar%29\n",
        "def load_dict_contractions():\n",
        "    return {\n",
        "        \"ain't\":\"is not\",\n",
        "        \"amn't\":\"am not\",\n",
        "        \"aren't\":\"are not\",\n",
        "        \"can't\":\"cannot\",\n",
        "        \"'cause\":\"because\",\n",
        "        \"couldn't\":\"could not\",\n",
        "        \"couldn't've\":\"could not have\",\n",
        "        \"could've\":\"could have\",\n",
        "        \"daren't\":\"dare not\",\n",
        "        \"daresn't\":\"dare not\",\n",
        "        \"dasn't\":\"dare not\",\n",
        "        \"didn't\":\"did not\",\n",
        "        \"doesn't\":\"does not\",\n",
        "        \"don't\":\"do not\",\n",
        "        \"e'er\":\"ever\",\n",
        "        \"em\":\"them\",\n",
        "        \"everyone's\":\"everyone is\",\n",
        "        \"finna\":\"fixing to\",\n",
        "        \"gimme\":\"give me\",\n",
        "        \"gonna\":\"going to\",\n",
        "        \"gon't\":\"go not\",\n",
        "        \"gotta\":\"got to\",\n",
        "        \"hadn't\":\"had not\",\n",
        "        \"hasn't\":\"has not\",\n",
        "        \"haven't\":\"have not\",\n",
        "        \"he'd\":\"he would\",\n",
        "        \"he'll\":\"he will\",\n",
        "        \"he's\":\"he is\",\n",
        "        \"he've\":\"he have\",\n",
        "        \"how'd\":\"how would\",\n",
        "        \"how'll\":\"how will\",\n",
        "        \"how're\":\"how are\",\n",
        "        \"how's\":\"how is\",\n",
        "        \"I'd\":\"I would\",\n",
        "        \"I'll\":\"I will\",\n",
        "        \"I'm\":\"I am\",\n",
        "        \"I'm'a\":\"I am about to\",\n",
        "        \"I'm'o\":\"I am going to\",\n",
        "        \"isn't\":\"is not\",\n",
        "        \"it'd\":\"it would\",\n",
        "        \"it'll\":\"it will\",\n",
        "        \"it's\":\"it is\",\n",
        "        \"I've\":\"I have\",\n",
        "        \"kinda\":\"kind of\",\n",
        "        \"let's\":\"let us\",\n",
        "        \"mayn't\":\"may not\",\n",
        "        \"may've\":\"may have\",\n",
        "        \"mightn't\":\"might not\",\n",
        "        \"might've\":\"might have\",\n",
        "        \"mustn't\":\"must not\",\n",
        "        \"mustn't've\":\"must not have\",\n",
        "        \"must've\":\"must have\",\n",
        "        \"needn't\":\"need not\",\n",
        "        \"ne'er\":\"never\",\n",
        "        \"o'\":\"of\",\n",
        "        \"o'er\":\"over\",\n",
        "        \"ol'\":\"old\",\n",
        "        \"oughtn't\":\"ought not\",\n",
        "        \"shalln't\":\"shall not\",\n",
        "        \"shan't\":\"shall not\",\n",
        "        \"she'd\":\"she would\",\n",
        "        \"she'll\":\"she will\",\n",
        "        \"she's\":\"she is\",\n",
        "        \"shouldn't\":\"should not\",\n",
        "        \"shouldn't've\":\"should not have\",\n",
        "        \"should've\":\"should have\",\n",
        "        \"somebody's\":\"somebody is\",\n",
        "        \"someone's\":\"someone is\",\n",
        "        \"something's\":\"something is\",\n",
        "        \"that'd\":\"that would\",\n",
        "        \"that'll\":\"that will\",\n",
        "        \"that're\":\"that are\",\n",
        "        \"that's\":\"that is\",\n",
        "        \"there'd\":\"there would\",\n",
        "        \"there'll\":\"there will\",\n",
        "        \"there're\":\"there are\",\n",
        "        \"there's\":\"there is\",\n",
        "        \"these're\":\"these are\",\n",
        "        \"they'd\":\"they would\",\n",
        "        \"they'll\":\"they will\",\n",
        "        \"they're\":\"they are\",\n",
        "        \"they've\":\"they have\",\n",
        "        \"this's\":\"this is\",\n",
        "        \"those're\":\"those are\",\n",
        "        \"'tis\":\"it is\",\n",
        "        \"'twas\":\"it was\",\n",
        "        \"wanna\":\"want to\",\n",
        "        \"wasn't\":\"was not\",\n",
        "        \"we'd\":\"we would\",\n",
        "        \"we'd've\":\"we would have\",\n",
        "        \"we'll\":\"we will\",\n",
        "        \"we're\":\"we are\",\n",
        "        \"weren't\":\"were not\",\n",
        "        \"we've\":\"we have\",\n",
        "        \"what'd\":\"what did\",\n",
        "        \"what'll\":\"what will\",\n",
        "        \"what're\":\"what are\",\n",
        "        \"what's\":\"what is\",\n",
        "        \"what've\":\"what have\",\n",
        "        \"when's\":\"when is\",\n",
        "        \"where'd\":\"where did\",\n",
        "        \"where're\":\"where are\",\n",
        "        \"where's\":\"where is\",\n",
        "        \"where've\":\"where have\",\n",
        "        \"which's\":\"which is\",\n",
        "        \"who'd\":\"who would\",\n",
        "        \"who'd've\":\"who would have\",\n",
        "        \"who'll\":\"who will\",\n",
        "        \"who're\":\"who are\",\n",
        "        \"who's\":\"who is\",\n",
        "        \"who've\":\"who have\",\n",
        "        \"why'd\":\"why did\",\n",
        "        \"why're\":\"why are\",\n",
        "        \"why's\":\"why is\",\n",
        "        \"won't\":\"will not\",\n",
        "        \"wouldn't\":\"would not\",\n",
        "        \"would've\":\"would have\",\n",
        "        \"y'all\":\"you all\",\n",
        "        \"you'd\":\"you would\",\n",
        "        \"you'll\":\"you will\",\n",
        "        \"you're\":\"you are\",\n",
        "        \"you've\":\"you have\",\n",
        "        \"Whatcha\":\"What are you\",\n",
        "        \"luv\":\"love\",\n",
        "        \"sux\":\"sucks\"\n",
        "        }\n",
        "\n",
        "def tweet_cleaning_for_sentiment_analysis(tweet):\n",
        "    \n",
        "        # lower case\n",
        "    tweet = tweet.lower()\n",
        "    tweet = emoji.demojize(tweet)\n",
        "    tweet = tweet.replace(\":\",\" \")\n",
        "    tweet = tweet.replace(\"’\",\"'\")\n",
        "    # replace duplicate character\n",
        "    tweet = re.sub(r\"(.)\\1{2,}\", r'\\1\\1', tweet)\n",
        "    \n",
        "    \n",
        "    CONTRACTIONS = load_dict_contractions()\n",
        "    SMILEY = load_dict_smileys() \n",
        "    words = tweet.split()\n",
        "    reformed = words\n",
        "    reformed = [CONTRACTIONS[word] if word in CONTRACTIONS else word for word in words]\n",
        "    reformed = [SMILEY[word] if word in SMILEY else word for word in reformed]\n",
        "    tweet = ' '.join(reformed)\n",
        "    return tweet\n",
        "\n",
        "\n",
        "def clean(t,l):\n",
        "    for i in range(len(t)):\n",
        "        temp = tweet_cleaning_for_sentiment_analysis(' '.join(t[i])).split(' ')\n",
        "        t[i] = []\n",
        "        j=0\n",
        "        while j<len(temp):\n",
        "            t[i].append(temp[j])\n",
        "            j+=1\n",
        "        \n",
        "    return t, l"
      ],
      "execution_count": null,
      "outputs": []
    },
    {
      "cell_type": "code",
      "metadata": {
        "ExecuteTime": {
          "end_time": "2020-07-31T19:08:55.269389Z",
          "start_time": "2020-07-31T19:08:52.920246Z"
        },
        "id": "aKymMDnef-bx"
      },
      "source": [
        "t_train, l_train = clean(t_train, l_train)\n",
        "t_dev, l_dev = clean(t_dev, l_dev)\n",
        "t_test, l_test = clean(t_test, l_test)"
      ],
      "execution_count": null,
      "outputs": []
    },
    {
      "cell_type": "code",
      "metadata": {
        "id": "iRCx7ubPooPE"
      },
      "source": [
        "newTrain = t_train + t_dev\r\n",
        "newLabel = s_train + s_dev\r\n",
        "\r\n",
        "t_train, t_dev, s_train, s_dev = train_test_split(newTrain, newLabel, test_size=0.2, random_state=42)\r\n",
        "print(len(t_train), len(t_dev), len(s_train), len(s_dev))"
      ],
      "execution_count": null,
      "outputs": []
    },
    {
      "cell_type": "code",
      "metadata": {
        "id": "A8cP6F-yf-by"
      },
      "source": [
        "print(len(t_train[1]), len(l_train[1]))\n",
        "print(sum([len(i) for i in t_train])/len(t_train))\n",
        "import matplotlib.pyplot as plt\n",
        "import pandas as pd\n",
        "import numpy as np\n",
        "import seaborn as sns\n",
        "\n",
        "data = [len(i) for i in t_train]\n",
        "\n",
        "# Generate histogram/distribution plot\n",
        "sns.displot(data)\n",
        "\n",
        "plt.show()"
      ],
      "execution_count": null,
      "outputs": []
    },
    {
      "cell_type": "code",
      "metadata": {
        "ExecuteTime": {
          "end_time": "2020-07-31T19:09:10.089697Z",
          "start_time": "2020-07-31T19:09:09.071221Z"
        },
        "id": "H_Yl4aZLf-by"
      },
      "source": [
        "tok_w = Tokenizer(char_level=False,lower=True,oov_token='UNK')\n",
        "tok_w.fit_on_texts(t_train) \n",
        "\n",
        "MAX_LEN = 60\n",
        "trainInput_w = pad_sequences(tok_w.texts_to_sequences(t_train),\n",
        "                          maxlen=MAX_LEN, padding=\"post\")\n",
        "\n",
        "valInput_w = pad_sequences(tok_w.texts_to_sequences(t_dev) ,\n",
        "                          maxlen=MAX_LEN, padding=\"post\")\n",
        "testInput_w = pad_sequences(tok_w.texts_to_sequences(t_test),\n",
        "                          maxlen=MAX_LEN, padding=\"post\")"
      ],
      "execution_count": null,
      "outputs": []
    },
    {
      "cell_type": "code",
      "metadata": {
        "id": "ZKHc6XIo-q4t"
      },
      "source": [
        "tok_w.word_index.keys()\r\n",
        "len(tok_w.word_index.keys())\r\n",
        "# list(tok_w.word_index.keys())[0]\r\n",
        "print(len(s_dev),len(s_train))"
      ],
      "execution_count": null,
      "outputs": []
    },
    {
      "cell_type": "code",
      "metadata": {
        "ExecuteTime": {
          "end_time": "2020-07-31T19:09:12.018799Z",
          "start_time": "2020-07-31T19:09:11.863485Z"
        },
        "id": "XBXgffLkf-bz"
      },
      "source": [
        "le = preprocessing.LabelEncoder()\n",
        "le.fit(s_train)\n",
        "\n",
        "trainLabels = to_categorical(le.transform(s_train))\n",
        "valLabels = to_categorical(le.transform(s_dev))"
      ],
      "execution_count": null,
      "outputs": []
    },
    {
      "cell_type": "code",
      "metadata": {
        "id": "Q9P4zSeVf-bz"
      },
      "source": [
        "def get_embedding_lookup(embedding_path):\n",
        "    embedding_lookup = {}\n",
        "    with open(embedding_path) as f:\n",
        "        for line in f:\n",
        "            values = line.split()\n",
        "            word = values[0]\n",
        "            coef = np.array(values[1:], dtype=np.float32)\n",
        "            embedding_lookup[word] = coef\n",
        "\n",
        "    return embedding_lookup\n",
        "\n",
        "\n",
        "def get_pretrained_embedding(embedding_path,\n",
        "                             index2word,\n",
        "                             max_features: int) -> np.ndarray:\n",
        "    embedding_lookup = get_embedding_lookup(embedding_path)\n",
        "\n",
        "    pretrained_embedding = np.stack(list(embedding_lookup.values()))\n",
        "    embedding_dim = pretrained_embedding.shape[1]\n",
        "    embeddings = np.random.normal(pretrained_embedding.mean(),\n",
        "                                  pretrained_embedding.std(),\n",
        "                                  (max_features, embedding_dim)).astype(np.float32)\n",
        "\n",
        "    n_found = 0\n",
        "    \n",
        "    for i in range(1, max_features):\n",
        "        word = index2word[i]\n",
        "        embedding_vector = embedding_lookup.get(word)\n",
        "        if embedding_vector is not None:\n",
        "            embeddings[i] = embedding_vector\n",
        "            n_found += 1\n",
        "\n",
        "    print('number of words found:', n_found)\n",
        "    return embeddings"
      ],
      "execution_count": null,
      "outputs": []
    },
    {
      "cell_type": "code",
      "metadata": {
        "id": "p_cnkpU6f-b0"
      },
      "source": [
        "# using glove embeddings \n",
        "\n",
        "glove_path = 'glove.42B.300d.txt'\n",
        "max_features = len(tok_w.word_index) + 1\n",
        "\n",
        "pretrained_embedding = get_pretrained_embedding(glove_path, tok_w.index_word, max_features)\n",
        "pretrained_embedding.shape"
      ],
      "execution_count": null,
      "outputs": []
    },
    {
      "cell_type": "code",
      "metadata": {
        "id": "QVdBhOEx7llF"
      },
      "source": [
        "# using xlm-r encodings\r\n",
        "\r\n",
        "!wget https://dl.fbaipublicfiles.com/fairseq/models/xlmr.base.tar.gz\r\n",
        "!tar -xvf /content/xlmr.base.tar.gz\r\n",
        "\r\n",
        "from fairseq.models.roberta import XLMRModel\r\n",
        "xlmr = XLMRModel.from_pretrained('/content/xlmr.base', checkpoint_file='model.pt')\r\n",
        "xlmr.eval() "
      ],
      "execution_count": null,
      "outputs": []
    },
    {
      "cell_type": "code",
      "metadata": {
        "id": "cBmr7GGIlA1T"
      },
      "source": [
        "pretrained_embedding = []\r\n",
        "toklist  = list(tok_w.word_index.keys())\r\n",
        "\r\n",
        "for i,tok in enumerate(toklist):\r\n",
        "  if i%100 == 0:\r\n",
        "    print(i) \r\n",
        "  n_tokens = xlmr.encode(tok)\r\n",
        "  features = xlmr.extract_features(n_tokens)\r\n",
        "  fea = features.reshape(-1,768).detach().numpy()\r\n",
        "  meanr = np.mean(fea,axis = 0)\r\n",
        "  pretrained_embedding.append(list(meanr))\r\n",
        "\r\n",
        "\r\n",
        "pretrained_embedding = np.array(pretrained_embedding)\r\n",
        "newrow = np.random.normal(0,1, 768)\r\n",
        "pretrained_embedding = np.vstack([newrow, pretrained_embedding])\r\n",
        "print(pretrained_embedding.shape)"
      ],
      "execution_count": null,
      "outputs": []
    },
    {
      "cell_type": "markdown",
      "metadata": {
        "id": "OaHZaakof-bz"
      },
      "source": [
        "### Model Architecture, Optimizer, Loss Function and Hyperparameters"
      ]
    },
    {
      "cell_type": "code",
      "metadata": {
        "ExecuteTime": {
          "end_time": "2020-07-31T19:10:11.356781Z",
          "start_time": "2020-07-31T19:10:10.748014Z"
        },
        "id": "cM-IYuxVf-b0"
      },
      "source": [
        "#baseline Model  (Attention Based CNN) \n",
        "\n",
        "max_features = len(tok_w.word_index)\n",
        "maxlen = 60\n",
        "embedding_size = 128\n",
        "\n",
        "# Convolution\n",
        "kernel_size = 5\n",
        "filters = 264\n",
        "pool_size = 4\n",
        "\n",
        "model = Sequential()\n",
        "# model.add(Input(shape=(None,)))\n",
        "model.add(Embedding(max_features+1, 300,weights=[pretrained_embedding], input_length=maxlen, trainable=False))\n",
        "model.add(Conv1D(filters,\n",
        "                 kernel_size,\n",
        "                 padding='valid',\n",
        "                 activation='relu',\n",
        "                 strides=1))\n",
        "model.add(MaxPooling1D(pool_size=pool_size))\n",
        "model.add(SeqSelfAttention(attention_activation='sigmoid'))\n",
        "# model.add(Flatten())\n",
        "model.add(GlobalAveragePooling1D())\n",
        "model.add(Dropout(0.5))\n",
        "model.add(Dense(64, activation='relu'))\n",
        "model.add(Dropout(0.5))\n",
        "model.add(Dense(3, activation='softmax'))\n",
        "model.compile(loss='categorical_crossentropy',\n",
        "              optimizer='adam',\n",
        "              metrics=['accuracy'])\n",
        "model.summary()"
      ],
      "execution_count": null,
      "outputs": []
    },
    {
      "cell_type": "code",
      "metadata": {
        "id": "nG-wr9Ac8k1M"
      },
      "source": [
        "# CNN  + Attention Based LSTM\r\n",
        "\r\n",
        "max_features = len(tok_w.word_index)\r\n",
        "maxlen = 60\r\n",
        "embedding_size = 256\r\n",
        "\r\n",
        "# Convolution\r\n",
        "kernel_size = 4\r\n",
        "filters = 128\r\n",
        "pool_size = 4\r\n",
        "\r\n",
        "\r\n",
        "from tensorflow.keras.models import Model\r\n",
        "from tensorflow.keras.layers import Input, Dense\r\n",
        "# This returns a tensor\r\n",
        "inputs = Input(shape=(60,))\r\n",
        "emb = Embedding(max_features+1, embedding_size, input_length=maxlen)(inputs)\r\n",
        "x4 = Conv1D(filters,\r\n",
        "                 kernel_size,\r\n",
        "                 padding='valid',\r\n",
        "                 activation='relu',\r\n",
        "                 strides=1)(emb)\r\n",
        "\r\n",
        "x4 = Dropout(0.2)(x4)                \r\n",
        "x4 = MaxPooling1D(pool_size=pool_size)(x4)\r\n",
        "x4 = Dropout(0.2)(x4) \r\n",
        "\r\n",
        "x2 = Conv1D(filters,\r\n",
        "                 3,\r\n",
        "                 padding='valid',\r\n",
        "                 activation='relu',\r\n",
        "                 strides=1)(emb)\r\n",
        "\r\n",
        "x2 = Dropout(0.2)(x2) \r\n",
        "x2 = MaxPooling1D(pool_size=pool_size)(x2)\r\n",
        "x2 = Dropout(0.2)(x2) \r\n",
        "\r\n",
        "x3 = Conv1D(filters,\r\n",
        "                 2,\r\n",
        "                 padding='valid',\r\n",
        "                 activation='relu',\r\n",
        "                 strides=1)(emb)\r\n",
        "\r\n",
        "x3 = Dropout(0.2)(x3) \r\n",
        "x3 = MaxPooling1D(pool_size=pool_size)(x3)\r\n",
        "x3 = Dropout(0.2)(x3) \r\n",
        "\r\n",
        "x = Concatenate(axis = 1)([x4,x2,x3])\r\n",
        "\r\n",
        "\r\n",
        "x = SeqSelfAttention(attention_activation='sigmoid')(x)\r\n",
        "x = Dropout(0.2)(x) \r\n",
        "x = GlobalAveragePooling1D()(x)\r\n",
        "x = Dropout(0.2)(x)\r\n",
        "x = Dense(64, activation='relu')(x)\r\n",
        "x = Dropout(0.2)(x)\r\n",
        "\r\n",
        "x1 = Bidirectional(LSTM(128, return_sequences=True))(emb)\r\n",
        "x1 = Dropout(0.2)(x1)\r\n",
        "x1 = Dense(64, activation='relu')(x1)\r\n",
        "x1 = Dropout(0.2)(x1)\r\n",
        "\r\n",
        "o1 = Dense(3, activation='softmax')(x)\r\n",
        "o2 = Dense(3, activation='softmax')(x1)\r\n",
        "outputs = tensorflow.keras.layers.Multiply()([o1,o2])\r\n",
        "\r\n",
        "\r\n",
        "model = Model(inputs=inputs, outputs=outputs)\r\n",
        "model.compile(loss='categorical_crossentropy',\r\n",
        "              optimizer= Adam(lr=0.001),\r\n",
        "              metrics=['categorical_accuracy'])\r\n",
        "model.summary()"
      ],
      "execution_count": null,
      "outputs": []
    },
    {
      "cell_type": "code",
      "metadata": {
        "id": "vVc955FhH-d3"
      },
      "source": [
        "# CNN  + Attention Based LSTM\r\n",
        "\r\n",
        "max_features = len(tok_w.word_index)\r\n",
        "maxlen = 60\r\n",
        "embedding_size = 256\r\n",
        "\r\n",
        "# Convolution\r\n",
        "kernel_size = 4\r\n",
        "filters = 128\r\n",
        "pool_size = 4\r\n",
        "\r\n",
        "\r\n",
        "from tensorflow.keras.models import Model\r\n",
        "from tensorflow.keras.layers import Input, Dense\r\n",
        "# This returns a tensor\r\n",
        "inputs = Input(shape=(60,))\r\n",
        "emb = Embedding(max_features+1, embedding_size, input_length=maxlen)(inputs)\r\n",
        "x4 = Conv1D(filters,\r\n",
        "                 kernel_size,\r\n",
        "                 padding='valid',\r\n",
        "                 activation='relu',\r\n",
        "                 strides=1)(emb)\r\n",
        "\r\n",
        "x4 = Dropout(0.2)(x4)                \r\n",
        "x4 = MaxPooling1D(pool_size=pool_size)(x4)\r\n",
        "x4 = Dropout(0.2)(x4) \r\n",
        "\r\n",
        "x2 = Conv1D(filters,\r\n",
        "                 3,\r\n",
        "                 padding='valid',\r\n",
        "                 activation='relu',\r\n",
        "                 strides=1)(emb)\r\n",
        "\r\n",
        "x2 = Dropout(0.2)(x2) \r\n",
        "x2 = MaxPooling1D(pool_size=pool_size)(x2)\r\n",
        "x2 = Dropout(0.2)(x2) \r\n",
        "\r\n",
        "x3 = Conv1D(filters,\r\n",
        "                 2,\r\n",
        "                 padding='valid',\r\n",
        "                 activation='relu',\r\n",
        "                 strides=1)(emb)\r\n",
        "\r\n",
        "x3 = Dropout(0.2)(x3) \r\n",
        "x3 = MaxPooling1D(pool_size=pool_size)(x3)\r\n",
        "x3 = Dropout(0.2)(x3) \r\n",
        "\r\n",
        "x = Concatenate(axis = 1)([x4,x2,x3])\r\n",
        "\r\n",
        "\r\n",
        "# x = SeqSelfAttention(attention_activation='sigmoid')(x)\r\n",
        "# x = Dropout(0.2)(x) \r\n",
        "x = GlobalAveragePooling1D()(x)\r\n",
        "x = Dropout(0.2)(x)\r\n",
        "x = Dense(64, activation='relu')(x)\r\n",
        "x = Dropout(0.2)(x)\r\n",
        "\r\n",
        "x1 = Bidirectional(LSTM(128, return_sequences=True))(emb)\r\n",
        "x1 = SeqSelfAttention(attention_activation='sigmoid')(x1)\r\n",
        "x1 = Dropout(0.2)(x1) \r\n",
        "x1 = GlobalAveragePooling1D()(x1)\r\n",
        "x1 = Dropout(0.2)(x1)\r\n",
        "x1 = Dense(64, activation='relu')(x1)\r\n",
        "x1 = Dropout(0.2)(x1)\r\n",
        "\r\n",
        "# o1 = Concatenate(axis = 1)([x,x1])\r\n",
        "# tf.keras.layers.Dot\r\n",
        "\r\n",
        "o1 = Dense(3, activation='softmax')(x)\r\n",
        "o2 = Dense(3, activation='softmax')(x1)\r\n",
        "outputs = tensorflow.keras.layers.Multiply()([o1,o2])\r\n",
        "\r\n",
        "\r\n",
        "model = Model(inputs=inputs, outputs=outputs)\r\n",
        "model.compile(loss='categorical_crossentropy',\r\n",
        "              optimizer= Adam(lr=0.001),\r\n",
        "              metrics=['categorical_accuracy'])\r\n",
        "model.summary()"
      ],
      "execution_count": null,
      "outputs": []
    },
    {
      "cell_type": "markdown",
      "metadata": {
        "id": "6HELFwZff-b1"
      },
      "source": [
        "# Train"
      ]
    },
    {
      "cell_type": "code",
      "metadata": {
        "id": "rb3LtmgTH-DX"
      },
      "source": [
        "model.fit([trainInput_w], trainLabels,\r\n",
        "          batch_size= 16 ,\r\n",
        "          validation_data=(valInput_w,valLabels),\r\n",
        "          epochs=1)\r\n",
        "model.optimizer.get_config()"
      ],
      "execution_count": null,
      "outputs": []
    },
    {
      "cell_type": "markdown",
      "metadata": {
        "id": "qtvIeUWzf-b1"
      },
      "source": [
        "### Make Predictions on Test Set"
      ]
    },
    {
      "cell_type": "code",
      "metadata": {
        "ExecuteTime": {
          "start_time": "2020-07-31T19:10:46.569Z"
        },
        "code_folding": [
          4
        ],
        "id": "L2-fYttRf-b1"
      },
      "source": [
        "predictions = model.predict([testInput_w])\n",
        "predictions = np.argmax(predictions,axis=-1)\n",
        "\n",
        "# write predictions to file\n",
        "with open('preds.txt', 'w') as out:\n",
        "    out.write('Uid,Sentiment')\n",
        "    for i, uid in enumerate(u_test):\n",
        "        if predictions[i] == 0:\n",
        "            sentiment = 'negative'\n",
        "        elif predictions[i] == 1:\n",
        "            sentiment = 'neutral'\n",
        "        else:\n",
        "            sentiment = 'positive'\n",
        "        out.write(\"\\n%s,%s\"%(uid, sentiment))\n",
        "        \n",
        "        \n",
        "# load correct labels\n",
        "test = pd.read_csv('test_labels_hinglish.txt')\n",
        "# load predictions\n",
        "preds = pd.read_csv('preds.txt')\n",
        "\n",
        "# compute evaluation metrics\n",
        "results = {'preds': classification_report(test['Sentiment'], \n",
        "                                          preds['Sentiment'], \n",
        "                                          labels=['positive', 'neutral', 'negative'], \n",
        "                                          output_dict=True, digits=6)}\n",
        "results2 = classification_report(test['Sentiment'], \n",
        "                                          preds['Sentiment'], \n",
        "                                          labels=['positive', 'neutral', 'negative'], \n",
        "                                          output_dict=True, digits=6)"
      ],
      "execution_count": null,
      "outputs": []
    },
    {
      "cell_type": "code",
      "metadata": {
        "id": "AIbRu8or8zxQ"
      },
      "source": [
        "print(results2)"
      ],
      "execution_count": null,
      "outputs": []
    },
    {
      "cell_type": "code",
      "metadata": {
        "id": "wqvWBM6Lf-b2"
      },
      "source": [
        "# format and print scores\n",
        "formatted_results = [['model', 'precision', 'recall', 'accuracy', 'f1-score']]\n",
        "for ki in results.keys():\n",
        "    scores = results[ki]['macro avg']\n",
        "    model = [ki, scores['precision'], scores['recall'], results[ki]['accuracy'], scores['f1-score']]\n",
        "    formatted_results.append(model)\n",
        "    \n",
        "formatted_results = pd.DataFrame(formatted_results[1:], columns=formatted_results[0])\n",
        "print(formatted_results)"
      ],
      "execution_count": null,
      "outputs": []
    }
  ]
}