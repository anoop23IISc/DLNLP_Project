{
  "nbformat": 4,
  "nbformat_minor": 0,
  "metadata": {
    "kernelspec": {
      "display_name": "Python 3",
      "language": "python",
      "name": "python3"
    },
    "language_info": {
      "codemirror_mode": {
        "name": "ipython",
        "version": 3
      },
      "file_extension": ".py",
      "mimetype": "text/x-python",
      "name": "python",
      "nbconvert_exporter": "python",
      "pygments_lexer": "ipython3",
      "version": "3.6.9"
    },
    "varInspector": {
      "cols": {
        "lenName": 16,
        "lenType": 16,
        "lenVar": 40
      },
      "kernels_config": {
        "python": {
          "delete_cmd_postfix": "",
          "delete_cmd_prefix": "del ",
          "library": "var_list.py",
          "varRefreshCmd": "print(var_dic_list())"
        },
        "r": {
          "delete_cmd_postfix": ") ",
          "delete_cmd_prefix": "rm(",
          "library": "var_list.r",
          "varRefreshCmd": "cat(var_dic_list()) "
        }
      },
      "types_to_exclude": [
        "module",
        "function",
        "builtin_function_or_method",
        "instance",
        "_Feature"
      ],
      "window_display": false
    },
    "colab": {
      "name": "CM Sentiment Analysis.ipynb",
      "provenance": [],
      "toc_visible": true
    },
    "accelerator": "GPU"
  },
  "cells": [
    {
      "cell_type": "code",
      "metadata": {
        "id": "H8VY-PEhhLnT"
      },
      "source": [
        "# !pip install emoji\r\n",
        "# !pip install keras_self_attention\r\n",
        "# !pip install matplotlib\r\n",
        "# !pip install seaborn"
      ],
      "execution_count": null,
      "outputs": []
    },
    {
      "cell_type": "code",
      "metadata": {
        "ExecuteTime": {
          "end_time": "2020-07-31T19:09:53.483219Z",
          "start_time": "2020-07-31T19:09:52.895095Z"
        },
        "id": "-IQav5bcf-bs"
      },
      "source": [
        "from sklearn.model_selection import train_test_split\n",
        "import itertools\n",
        "import emoji\n",
        "import re\n",
        "import tensorflow\n",
        "from tensorflow.keras.optimizers import Adam, SGD\n",
        "from tensorflow.keras.preprocessing.text import Tokenizer\n",
        "from tensorflow.keras.preprocessing.sequence import pad_sequences\n",
        "from sklearn import preprocessing\n",
        "from tensorflow.keras.utils import to_categorical\n",
        "\n",
        "from tensorflow.keras.models import Sequential\n",
        "from tensorflow.keras.layers import Embedding, Conv1D, MaxPooling1D, Input, GlobalAveragePooling1D, GlobalAveragePooling2D\n",
        "from keras_self_attention import SeqSelfAttention\n",
        "from tensorflow.keras.layers import Flatten, Dropout, Dense, Bidirectional, Average, Concatenate, LSTM\n",
        "\n",
        "import numpy as np\n",
        "import pandas as pd\n",
        "from sklearn.metrics import classification_report\n",
        "from tqdm import tqdm_notebook as tqdm"
      ],
      "execution_count": null,
      "outputs": []
    },
    {
      "cell_type": "code",
      "metadata": {
        "ExecuteTime": {
          "end_time": "2020-07-31T19:07:16.569270Z",
          "start_time": "2020-07-31T19:06:15.693Z"
        },
        "code_folding": [
          0
        ],
        "id": "vHYGTMtSf-bv"
      },
      "source": [
        "def parse_lines(lines):\n",
        "    u = [] # uids\n",
        "    t = [] # tokens\n",
        "    l = [] # token labels\n",
        "    s = [] # sentiment labels\n",
        "    max_length = 0\n",
        "\n",
        "    print(\"Parsing lines from file...\")\n",
        "    for i, line in tqdm(enumerate(lines), total=len(lines)):\n",
        "        line = line.strip().split('\\t')\n",
        "        if line[0]=='meta':\n",
        "            if i!=0:\n",
        "                u.append(buffer_id)\n",
        "                t.append(buffer_tokens)\n",
        "                l.append(buffer_labels)\n",
        "                s.append(buffer_sentiment)\n",
        "                if len(buffer_tokens) > max_length:\n",
        "                    max_length = len(buffer_tokens)\n",
        "            buffer_id = line[1]\n",
        "            try:\n",
        "                buffer_sentiment = line[2]\n",
        "            except:\n",
        "                buffer_sentiment = ''\n",
        "            buffer_tokens = []\n",
        "            buffer_labels = []\n",
        "        else:\n",
        "            buffer_tokens.append(line[0])\n",
        "            try:\n",
        "                buffer_labels.append(line[1])\n",
        "            except:\n",
        "                buffer_labels.append('')\n",
        "\n",
        "    u.append(buffer_id)\n",
        "    t.append(buffer_tokens)\n",
        "    l.append(buffer_labels)\n",
        "    s.append(buffer_sentiment)\n",
        "    if len(buffer_tokens) > max_length:\n",
        "        max_length = len(buffer_tokens)\n",
        "\n",
        "    num_samples = len(u)\n",
        "    \n",
        "    return u, t, l, s, max_length"
      ],
      "execution_count": null,
      "outputs": []
    },
    {
      "cell_type": "code",
      "metadata": {
        "id": "zZ_p8SSbgSqo"
      },
      "source": [
        "from google.colab import drive\n",
        "drive.mount('/content/drive')\n",
        "!cp /content/drive/MyDrive/datasets/* ."
      ],
      "execution_count": null,
      "outputs": []
    },
    {
      "cell_type": "code",
      "metadata": {
        "ExecuteTime": {
          "end_time": "2020-07-31T19:07:16.579244Z",
          "start_time": "2020-07-31T19:06:18.167Z"
        },
        "id": "9VNIMizwf-bv"
      },
      "source": [
        "train = open('/content/train_14k_split_conll.txt', encoding='utf8').readlines()\n",
        "valid = open('/content/dev_3k_split_conll.txt', encoding='utf8').readlines()\n",
        "test = open('/content/Hindi_test_unalbelled_conll_updated.txt', encoding='utf8').readlines()\n",
        "\n",
        "u_train, t_train, l_train, s_train, max_length = parse_lines(train)\n",
        "u_dev, t_dev, l_dev, s_dev, max_length_dev = parse_lines(valid)\n",
        "u_test, t_test, l_test, s_test, max_length_test = parse_lines(test)"
      ],
      "execution_count": null,
      "outputs": []
    },
    {
      "cell_type": "code",
      "metadata": {
        "id": "kklWXVqbzaPv"
      },
      "source": [
        "print(len(s_train),len(s_dev))"
      ],
      "execution_count": null,
      "outputs": []
    },
    {
      "cell_type": "markdown",
      "metadata": {
        "id": "-jrv-u8Rf-bw"
      },
      "source": [
        "### Cleaning"
      ]
    },
    {
      "cell_type": "code",
      "metadata": {
        "ExecuteTime": {
          "end_time": "2020-07-31T19:08:51.747175Z",
          "start_time": "2020-07-31T19:08:51.529298Z"
        },
        "code_folding": [
          2,
          63,
          192,
          223
        ],
        "id": "CQMzg7r7f-bw"
      },
      "source": [
        "def tweet_cleaning_for_sentiment_analysis(tweet):\n",
        "    \n",
        "        # lower case\n",
        "    tweet = tweet.lower()\n",
        "    tweet = emoji.demojize(tweet)\n",
        "    tweet = tweet.replace(\":\",\" \")\n",
        "    tweet = tweet.replace(\"’\",\"'\")\n",
        "    # replace duplicate character\n",
        "    tweet = re.sub(r\"(.)\\1{2,}\", r'\\1\\1', tweet)\n",
        "    \n",
        "    \n",
        "    CONTRACTIONS = load_dict_contractions()\n",
        "    SMILEY = load_dict_smileys() \n",
        "    words = tweet.split()\n",
        "    reformed = words\n",
        "    tweet = ' '.join(reformed)\n",
        "    return tweet\n",
        "\n",
        "\n",
        "def clean(t,l):\n",
        "    for i in range(len(t)):\n",
        "        temp = tweet_cleaning_for_sentiment_analysis(' '.join(t[i])).split(' ')\n",
        "        t[i] = []\n",
        "        j=0\n",
        "        while j<len(temp):\n",
        "            t[i].append(temp[j])\n",
        "            j+=1\n",
        "        \n",
        "    return t, l"
      ],
      "execution_count": null,
      "outputs": []
    },
    {
      "cell_type": "code",
      "metadata": {
        "ExecuteTime": {
          "end_time": "2020-07-31T19:08:55.269389Z",
          "start_time": "2020-07-31T19:08:52.920246Z"
        },
        "id": "aKymMDnef-bx"
      },
      "source": [
        "t_train, l_train = clean(t_train, l_train)\n",
        "t_dev, l_dev = clean(t_dev, l_dev)\n",
        "t_test, l_test = clean(t_test, l_test)"
      ],
      "execution_count": null,
      "outputs": []
    },
    {
      "cell_type": "code",
      "metadata": {
        "id": "iRCx7ubPooPE"
      },
      "source": [
        "newTrain = t_train + t_dev\r\n",
        "newLabel = s_train + s_dev\r\n",
        "\r\n",
        "t_train, t_dev, s_train, s_dev = train_test_split(newTrain, newLabel, test_size=0.2, random_state=42)\r\n",
        "print(len(t_train), len(t_dev), len(s_train), len(s_dev))"
      ],
      "execution_count": null,
      "outputs": []
    },
    {
      "cell_type": "code",
      "metadata": {
        "id": "A8cP6F-yf-by"
      },
      "source": [
        "print(len(t_train[1]), len(l_train[1]))\n",
        "print(sum([len(i) for i in t_train])/len(t_train))\n",
        "import matplotlib.pyplot as plt\n",
        "import pandas as pd\n",
        "import numpy as np\n",
        "import seaborn as sns\n",
        "\n",
        "data = [len(i) for i in t_train]\n",
        "\n",
        "# Generate histogram/distribution plot\n",
        "sns.displot(data)\n",
        "\n",
        "plt.show()"
      ],
      "execution_count": null,
      "outputs": []
    },
    {
      "cell_type": "code",
      "metadata": {
        "ExecuteTime": {
          "end_time": "2020-07-31T19:09:10.089697Z",
          "start_time": "2020-07-31T19:09:09.071221Z"
        },
        "id": "H_Yl4aZLf-by"
      },
      "source": [
        "tok_w = Tokenizer(char_level=False,lower=True,oov_token='UNK')\n",
        "tok_w.fit_on_texts(t_train) \n",
        "\n",
        "MAX_LEN = 60\n",
        "trainInput_w = pad_sequences(tok_w.texts_to_sequences(t_train),\n",
        "                          maxlen=MAX_LEN, padding=\"post\")\n",
        "\n",
        "valInput_w = pad_sequences(tok_w.texts_to_sequences(t_dev) ,\n",
        "                          maxlen=MAX_LEN, padding=\"post\")\n",
        "testInput_w = pad_sequences(tok_w.texts_to_sequences(t_test),\n",
        "                          maxlen=MAX_LEN, padding=\"post\")"
      ],
      "execution_count": null,
      "outputs": []
    },
    {
      "cell_type": "code",
      "metadata": {
        "id": "ZKHc6XIo-q4t"
      },
      "source": [
        "tok_w.word_index.keys()\r\n",
        "len(tok_w.word_index.keys())\r\n",
        "# list(tok_w.word_index.keys())[0]\r\n",
        "print(len(s_dev),len(s_train))"
      ],
      "execution_count": null,
      "outputs": []
    },
    {
      "cell_type": "code",
      "metadata": {
        "ExecuteTime": {
          "end_time": "2020-07-31T19:09:12.018799Z",
          "start_time": "2020-07-31T19:09:11.863485Z"
        },
        "id": "XBXgffLkf-bz"
      },
      "source": [
        "le = preprocessing.LabelEncoder()\n",
        "le.fit(s_train)\n",
        "\n",
        "trainLabels = to_categorical(le.transform(s_train))\n",
        "valLabels = to_categorical(le.transform(s_dev))"
      ],
      "execution_count": null,
      "outputs": []
    },
    {
      "cell_type": "code",
      "metadata": {
        "id": "hTvkh4RyJ64l"
      },
      "source": [
        "print(len(tok_w.word_index))"
      ],
      "execution_count": null,
      "outputs": []
    },
    {
      "cell_type": "markdown",
      "metadata": {
        "id": "OaHZaakof-bz"
      },
      "source": [
        "### Model Architecture, Optimizer, Loss Function and Hyperparameters"
      ]
    },
    {
      "cell_type": "code",
      "metadata": {
        "id": "nG-wr9Ac8k1M"
      },
      "source": [
        "# CNN  + Attention Based LSTM\r\n",
        "\r\n",
        "max_features = len(tok_w.word_index)\r\n",
        "maxlen = 60\r\n",
        "embedding_size = 256\r\n",
        "\r\n",
        "# Convolution\r\n",
        "kernel_size = 4\r\n",
        "filters = 128\r\n",
        "pool_size = 4\r\n",
        "\r\n",
        "\r\n",
        "from tensorflow.keras.models import Model\r\n",
        "from tensorflow.keras.layers import Input, Dense\r\n",
        "# This returns a tensor\r\n",
        "inputs = Input(shape=(60,))\r\n",
        "emb = Embedding(max_features+1, embedding_size, input_length=maxlen)(inputs)\r\n",
        "x1 = Conv1D(filters,\r\n",
        "                 kernel_size,\r\n",
        "                 padding='valid',\r\n",
        "                 activation='relu',\r\n",
        "                 strides=1)(emb)\r\n",
        "\r\n",
        "x1 = Dropout(0.2)(x1)                \r\n",
        "x1 = MaxPooling1D(pool_size=pool_size)(x1)\r\n",
        "x1 = Dropout(0.2)(x1) \r\n",
        "\r\n",
        "x = SeqSelfAttention(attention_activation='sigmoid')(x1)\r\n",
        "x = Dropout(0.2)(x) \r\n",
        "x = GlobalAveragePooling1D()(x)\r\n",
        "x = Dropout(0.2)(x)\r\n",
        "x = Dense(64, activation='relu')(x)\r\n",
        "x = Dropout(0.2)(x)\r\n",
        "outputs = Dense(3, activation='softmax')(x)\r\n",
        "\r\n",
        "model = Model(inputs=inputs, outputs=outputs)\r\n",
        "model.compile(loss='categorical_crossentropy',\r\n",
        "              optimizer= Adam(lr=0.001),\r\n",
        "              metrics=['categorical_accuracy'])\r\n",
        "model.summary()"
      ],
      "execution_count": null,
      "outputs": []
    },
    {
      "cell_type": "code",
      "metadata": {
        "id": "rb3LtmgTH-DX"
      },
      "source": [
        "model.fit([trainInput_w], trainLabels,\r\n",
        "          batch_size= 16 ,\r\n",
        "          validation_data=(valInput_w,valLabels),\r\n",
        "          epochs=1)\r\n",
        "model.optimizer.get_config()"
      ],
      "execution_count": null,
      "outputs": []
    },
    {
      "cell_type": "markdown",
      "metadata": {
        "id": "qtvIeUWzf-b1"
      },
      "source": [
        "### Make Predictions on Test Set"
      ]
    },
    {
      "cell_type": "code",
      "metadata": {
        "ExecuteTime": {
          "start_time": "2020-07-31T19:10:46.569Z"
        },
        "code_folding": [
          4
        ],
        "id": "L2-fYttRf-b1"
      },
      "source": [
        "predictions = model.predict([testInput_w])\n",
        "predictions = np.argmax(predictions,axis=-1)\n",
        "\n",
        "# write predictions to file\n",
        "with open('preds.txt', 'w') as out:\n",
        "    out.write('Uid,Sentiment')\n",
        "    for i, uid in enumerate(u_test):\n",
        "        if predictions[i] == 0:\n",
        "            sentiment = 'negative'\n",
        "        elif predictions[i] == 1:\n",
        "            sentiment = 'neutral'\n",
        "        else:\n",
        "            sentiment = 'positive'\n",
        "        out.write(\"\\n%s,%s\"%(uid, sentiment))\n",
        "        \n",
        "        \n",
        "# load correct labels\n",
        "test = pd.read_csv('test_labels_hinglish.txt')\n",
        "# load predictions\n",
        "preds = pd.read_csv('preds.txt')\n",
        "\n",
        "# compute evaluation metrics\n",
        "results = {'preds': classification_report(test['Sentiment'], \n",
        "                                          preds['Sentiment'], \n",
        "                                          labels=['positive', 'neutral', 'negative'], \n",
        "                                          output_dict=True, digits=6)}\n",
        "results2 = classification_report(test['Sentiment'], \n",
        "                                          preds['Sentiment'], \n",
        "                                          labels=['positive', 'neutral', 'negative'], \n",
        "                                          output_dict=True, digits=6)"
      ],
      "execution_count": null,
      "outputs": []
    },
    {
      "cell_type": "code",
      "metadata": {
        "id": "AIbRu8or8zxQ"
      },
      "source": [
        "print(results2)"
      ],
      "execution_count": null,
      "outputs": []
    },
    {
      "cell_type": "code",
      "metadata": {
        "id": "wqvWBM6Lf-b2"
      },
      "source": [
        "# format and print scores\n",
        "formatted_results = [['model', 'precision', 'recall', 'accuracy', 'f1-score']]\n",
        "for ki in results.keys():\n",
        "    scores = results[ki]['macro avg']\n",
        "    model = [ki, scores['precision'], scores['recall'], results[ki]['accuracy'], scores['f1-score']]\n",
        "    formatted_results.append(model)\n",
        "    \n",
        "formatted_results = pd.DataFrame(formatted_results[1:], columns=formatted_results[0])\n",
        "print(formatted_results)"
      ],
      "execution_count": null,
      "outputs": []
    }
  ]
}